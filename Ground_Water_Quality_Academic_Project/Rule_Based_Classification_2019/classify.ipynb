{
 "cells": [
  {
   "cell_type": "markdown",
   "metadata": {},
   "source": [
    "### 2019"
   ]
  },
  {
   "cell_type": "code",
   "execution_count": 1,
   "metadata": {},
   "outputs": [],
   "source": [
    "import pandas as pd ##\tCO3\tHCO3\tNa\tK\t\t\n",
    "\n",
    "\n",
    "# importing the data\n",
    "data = pd.read_csv(r'D:\\academic_project\\data2019_cleaned.csv')\n",
    "def categorize_quality(row):\n",
    "    if 6.5 <= row['pH'] <= 8.5 and row['Cl'] <= 250 and row['NO3'] <= 45 and \\\n",
    "        row['F'] <= 1.0 and row['TDS'] <= 500 and row['SO4'] <= 200 and \\\n",
    "        row['TH'] <= 300 and row['Ca'] <= 75 and row['Mg'] <= 30 :\n",
    "        return 'Desirable limit'\n",
    "    elif 6.5 <= row['pH'] <= 8.5 and  row['Cl'] <= 1000 and row['NO3'] <= 100 and row['F'] <= 1.5 and row['TDS'] <= 2000 and \\\n",
    "         row['SO4'] <= 400 and row['TH'] <= 600  and row['Ca'] <= 200 and row['Mg'] <= 100:\n",
    "        return 'Permissible limit'\n",
    "    else :\n",
    "        return 'Non-Potable'  \n"
   ]
  },
  {
   "cell_type": "code",
   "execution_count": 2,
   "metadata": {},
   "outputs": [
    {
     "data": {
      "text/html": [
       "<div>\n",
       "<style scoped>\n",
       "    .dataframe tbody tr th:only-of-type {\n",
       "        vertical-align: middle;\n",
       "    }\n",
       "\n",
       "    .dataframe tbody tr th {\n",
       "        vertical-align: top;\n",
       "    }\n",
       "\n",
       "    .dataframe thead th {\n",
       "        text-align: right;\n",
       "    }\n",
       "</style>\n",
       "<table border=\"1\" class=\"dataframe\">\n",
       "  <thead>\n",
       "    <tr style=\"text-align: right;\">\n",
       "      <th></th>\n",
       "      <th>State</th>\n",
       "      <th>District</th>\n",
       "      <th>Latitude</th>\n",
       "      <th>Longitude</th>\n",
       "      <th>Year</th>\n",
       "      <th>pH</th>\n",
       "      <th>EC</th>\n",
       "      <th>CO3</th>\n",
       "      <th>HCO3</th>\n",
       "      <th>Cl</th>\n",
       "      <th>SO4</th>\n",
       "      <th>NO3</th>\n",
       "      <th>TH</th>\n",
       "      <th>Ca</th>\n",
       "      <th>Mg</th>\n",
       "      <th>Na</th>\n",
       "      <th>K</th>\n",
       "      <th>F</th>\n",
       "      <th>TDS</th>\n",
       "      <th>Water_Quality</th>\n",
       "    </tr>\n",
       "  </thead>\n",
       "  <tbody>\n",
       "    <tr>\n",
       "      <th>0</th>\n",
       "      <td>Tamilnadu</td>\n",
       "      <td>Villupuram</td>\n",
       "      <td>12.2047</td>\n",
       "      <td>79.8439</td>\n",
       "      <td>2019</td>\n",
       "      <td>6.6</td>\n",
       "      <td>650</td>\n",
       "      <td>0</td>\n",
       "      <td>207.468</td>\n",
       "      <td>92.17</td>\n",
       "      <td>20.0</td>\n",
       "      <td>24.1</td>\n",
       "      <td>290</td>\n",
       "      <td>80.0</td>\n",
       "      <td>116.6590</td>\n",
       "      <td>25.2</td>\n",
       "      <td>1.5</td>\n",
       "      <td>0.3</td>\n",
       "      <td>390.0</td>\n",
       "      <td>Non-Potable</td>\n",
       "    </tr>\n",
       "    <tr>\n",
       "      <th>1</th>\n",
       "      <td>Tamilnadu</td>\n",
       "      <td>Villupuram</td>\n",
       "      <td>12.1958</td>\n",
       "      <td>79.7667</td>\n",
       "      <td>2019</td>\n",
       "      <td>6.8</td>\n",
       "      <td>4100</td>\n",
       "      <td>0</td>\n",
       "      <td>512.568</td>\n",
       "      <td>836.62</td>\n",
       "      <td>220.0</td>\n",
       "      <td>182.0</td>\n",
       "      <td>1150</td>\n",
       "      <td>424.0</td>\n",
       "      <td>21.8736</td>\n",
       "      <td>371.6</td>\n",
       "      <td>9.6</td>\n",
       "      <td>0.5</td>\n",
       "      <td>2460.0</td>\n",
       "      <td>Non-Potable</td>\n",
       "    </tr>\n",
       "    <tr>\n",
       "      <th>2</th>\n",
       "      <td>Tamilnadu</td>\n",
       "      <td>Villupuram</td>\n",
       "      <td>12.1083</td>\n",
       "      <td>79.7442</td>\n",
       "      <td>2019</td>\n",
       "      <td>7.2</td>\n",
       "      <td>1020</td>\n",
       "      <td>0</td>\n",
       "      <td>341.712</td>\n",
       "      <td>127.62</td>\n",
       "      <td>34.0</td>\n",
       "      <td>22.2</td>\n",
       "      <td>440</td>\n",
       "      <td>72.0</td>\n",
       "      <td>63.1904</td>\n",
       "      <td>29.8</td>\n",
       "      <td>1.6</td>\n",
       "      <td>0.2</td>\n",
       "      <td>612.0</td>\n",
       "      <td>Permissible limit</td>\n",
       "    </tr>\n",
       "    <tr>\n",
       "      <th>3</th>\n",
       "      <td>Tamilnadu</td>\n",
       "      <td>Pondicherry</td>\n",
       "      <td>11.9000</td>\n",
       "      <td>79.8167</td>\n",
       "      <td>2019</td>\n",
       "      <td>7.3</td>\n",
       "      <td>900</td>\n",
       "      <td>0</td>\n",
       "      <td>280.692</td>\n",
       "      <td>106.35</td>\n",
       "      <td>51.0</td>\n",
       "      <td>17.2</td>\n",
       "      <td>220</td>\n",
       "      <td>48.0</td>\n",
       "      <td>24.3040</td>\n",
       "      <td>97.4</td>\n",
       "      <td>1.0</td>\n",
       "      <td>0.7</td>\n",
       "      <td>540.0</td>\n",
       "      <td>Permissible limit</td>\n",
       "    </tr>\n",
       "    <tr>\n",
       "      <th>4</th>\n",
       "      <td>Tamilnadu</td>\n",
       "      <td>Pondicherry</td>\n",
       "      <td>11.8833</td>\n",
       "      <td>79.7667</td>\n",
       "      <td>2019</td>\n",
       "      <td>7.0</td>\n",
       "      <td>1891</td>\n",
       "      <td>0</td>\n",
       "      <td>396.630</td>\n",
       "      <td>304.87</td>\n",
       "      <td>140.0</td>\n",
       "      <td>49.1</td>\n",
       "      <td>440</td>\n",
       "      <td>120.0</td>\n",
       "      <td>34.0256</td>\n",
       "      <td>217.2</td>\n",
       "      <td>19.2</td>\n",
       "      <td>0.5</td>\n",
       "      <td>1134.6</td>\n",
       "      <td>Permissible limit</td>\n",
       "    </tr>\n",
       "  </tbody>\n",
       "</table>\n",
       "</div>"
      ],
      "text/plain": [
       "       State     District  Latitude  Longitude  Year   pH    EC  CO3     HCO3  \\\n",
       "0  Tamilnadu   Villupuram   12.2047    79.8439  2019  6.6   650    0  207.468   \n",
       "1  Tamilnadu   Villupuram   12.1958    79.7667  2019  6.8  4100    0  512.568   \n",
       "2  Tamilnadu   Villupuram   12.1083    79.7442  2019  7.2  1020    0  341.712   \n",
       "3  Tamilnadu  Pondicherry   11.9000    79.8167  2019  7.3   900    0  280.692   \n",
       "4  Tamilnadu  Pondicherry   11.8833    79.7667  2019  7.0  1891    0  396.630   \n",
       "\n",
       "       Cl    SO4    NO3    TH     Ca        Mg     Na     K    F     TDS  \\\n",
       "0   92.17   20.0   24.1   290   80.0  116.6590   25.2   1.5  0.3   390.0   \n",
       "1  836.62  220.0  182.0  1150  424.0   21.8736  371.6   9.6  0.5  2460.0   \n",
       "2  127.62   34.0   22.2   440   72.0   63.1904   29.8   1.6  0.2   612.0   \n",
       "3  106.35   51.0   17.2   220   48.0   24.3040   97.4   1.0  0.7   540.0   \n",
       "4  304.87  140.0   49.1   440  120.0   34.0256  217.2  19.2  0.5  1134.6   \n",
       "\n",
       "       Water_Quality  \n",
       "0        Non-Potable  \n",
       "1        Non-Potable  \n",
       "2  Permissible limit  \n",
       "3  Permissible limit  \n",
       "4  Permissible limit  "
      ]
     },
     "execution_count": 2,
     "metadata": {},
     "output_type": "execute_result"
    }
   ],
   "source": [
    "# Apply categorization to the dataset\n",
    "data['Water_Quality'] = data.apply(categorize_quality, axis=1)\n",
    "data.head()\n"
   ]
  },
  {
   "cell_type": "code",
   "execution_count": 3,
   "metadata": {},
   "outputs": [],
   "source": [
    "data.to_csv(r'D:\\academic_project\\data_classify.csv')"
   ]
  },
  {
   "cell_type": "code",
   "execution_count": 4,
   "metadata": {},
   "outputs": [
    {
     "name": "stdout",
     "output_type": "stream",
     "text": [
      "0       2\n",
      "1       2\n",
      "2       1\n",
      "3       1\n",
      "4       1\n",
      "       ..\n",
      "1172    1\n",
      "1173    1\n",
      "1174    0\n",
      "1175    2\n",
      "1176    0\n",
      "Name: Water_Quality, Length: 1177, dtype: int64\n"
     ]
    }
   ],
   "source": [
    "## assigning values to water_quality\n",
    "water = {'Desirable limit': 0, 'Permissible limit': 1, 'Non-Potable': 2}\n",
    "# Replacing categorical values with numerical values in the 'Water_Quality' column\n",
    "data['Water_Quality'] = data['Water_Quality'].replace(water)\n",
    "\n",
    "# Check the updated 'Water_Quality' column\n",
    "print(data['Water_Quality'])\n",
    "data_2019 = data.to_csv(r'D:\\academic_project\\data_2019.csv', index = False)"
   ]
  },
  {
   "cell_type": "code",
   "execution_count": 5,
   "metadata": {},
   "outputs": [
    {
     "data": {
      "text/plain": [
       "{'Desirable limit': 114, 'Permissible limit': 520, 'Non-Potable': 543}"
      ]
     },
     "execution_count": 5,
     "metadata": {},
     "output_type": "execute_result"
    }
   ],
   "source": [
    "new = [\"Desirable limit\",\"Permissible limit\", \"Non-Potable\"]\n",
    "final = dict()\n",
    "for i in range(3):\n",
    "    final[new[i]] = (data[\"Water_Quality\"] == i).sum()\n",
    "final"
   ]
  },
  {
   "cell_type": "markdown",
   "metadata": {},
   "source": [
    "### 2020"
   ]
  },
  {
   "cell_type": "code",
   "execution_count": 6,
   "metadata": {},
   "outputs": [],
   "source": [
    "import pandas as pd\n",
    "\n",
    "# importing the data\n",
    "data = pd.read_csv(r'D:\\academic_project\\data2020_cleaned.csv')\n",
    "def categorize_quality(row):\n",
    "    if 6.5 <= row['pH'] <= 8.5 and row['Cl'] <= 250 and row['NO3'] <= 45 and \\\n",
    "        row['F'] <= 1.0 and row['TDS'] <= 500 and row['SO4'] <= 200 and \\\n",
    "        row['TH'] <= 300 and row['Ca'] <= 75 and row['Mg'] <= 30 :\n",
    "        return 'Desirable limit'\n",
    "    elif 6.5 <= row['pH'] <= 8.5 and  row['Cl'] <= 1000 and row['NO3'] <= 100 and row['F'] <= 1.5 and row['TDS'] <= 2000 and \\\n",
    "         row['SO4'] <= 400 and row['TH'] <= 600  and row['Ca'] <= 200 and row['Mg'] <= 100:\n",
    "        return 'Permissible limit'\n",
    "    else :\n",
    "        return 'Non-Potable'"
   ]
  },
  {
   "cell_type": "code",
   "execution_count": 7,
   "metadata": {},
   "outputs": [
    {
     "name": "stdout",
     "output_type": "stream",
     "text": [
      "0      2\n",
      "1      2\n",
      "2      1\n",
      "3      1\n",
      "4      0\n",
      "      ..\n",
      "107    1\n",
      "108    0\n",
      "109    0\n",
      "110    2\n",
      "111    1\n",
      "Name: Water_Quality, Length: 112, dtype: int64\n"
     ]
    }
   ],
   "source": [
    "# Apply categorization to the dataset\n",
    "data['Water_Quality'] = data.apply(categorize_quality, axis=1)\n",
    "## assigning values to water_quality\n",
    "water = {'Desirable limit': 0, 'Permissible limit': 1, 'Non-Potable': 2}\n",
    "# Replacing categorical values with numerical values in the 'Water_Quality' column\n",
    "data['Water_Quality'] = data['Water_Quality'].replace(water)\n",
    "\n",
    "# Check the updated 'Water_Quality' column\n",
    "print(data['Water_Quality'])"
   ]
  },
  {
   "cell_type": "code",
   "execution_count": 8,
   "metadata": {},
   "outputs": [
    {
     "data": {
      "text/plain": [
       "{'Desirable limit': 16, 'Permissible limit': 64, 'Non-Potable': 32}"
      ]
     },
     "execution_count": 8,
     "metadata": {},
     "output_type": "execute_result"
    }
   ],
   "source": [
    "new = [\"Desirable limit\",\"Permissible limit\", \"Non-Potable\"]\n",
    "final = dict()\n",
    "for i in range(3):\n",
    "    final[new[i]] = (data[\"Water_Quality\"] == i).sum()\n",
    "final"
   ]
  },
  {
   "cell_type": "markdown",
   "metadata": {},
   "source": [
    "### 2021"
   ]
  },
  {
   "cell_type": "code",
   "execution_count": 9,
   "metadata": {},
   "outputs": [],
   "source": [
    "import pandas as pd\n",
    "\n",
    "# importing the data\n",
    "data = pd.read_csv(r'D:\\academic_project\\data2021_cleaned.csv')\n",
    "def categorize_quality(row):\n",
    "    if 6.5 <= row['pH'] <= 8.5 and row['Cl'] <= 250 and row['NO3'] <= 45 and \\\n",
    "        row['F'] <= 1.0 and row['TDS'] <= 500 and row['SO4'] <= 200 and \\\n",
    "        row['TH'] <= 300 and row['Ca'] <= 75 and row['Mg'] <= 30 :\n",
    "        return 'Desirable limit'\n",
    "    elif 6.5 <= row['pH'] <= 8.5 and  row['Cl'] <= 1000 and row['NO3'] <= 100 and row['F'] <= 1.5 and row['TDS'] <= 2000 and \\\n",
    "         row['SO4'] <= 400 and row['TH'] <= 600  and row['Ca'] <= 200 and row['Mg'] <= 100:\n",
    "        return 'Permissible limit'\n",
    "    else :\n",
    "        return 'Non-Potable' "
   ]
  },
  {
   "cell_type": "code",
   "execution_count": 10,
   "metadata": {},
   "outputs": [
    {
     "name": "stdout",
     "output_type": "stream",
     "text": [
      "0      1\n",
      "1      0\n",
      "2      0\n",
      "3      0\n",
      "4      1\n",
      "      ..\n",
      "607    2\n",
      "608    2\n",
      "609    1\n",
      "610    2\n",
      "611    2\n",
      "Name: Water_Quality, Length: 612, dtype: int64\n"
     ]
    }
   ],
   "source": [
    "# Apply categorization to the dataset\n",
    "data['Water_Quality'] = data.apply(categorize_quality, axis=1)\n",
    "## assigning values to water_quality\n",
    "water = {'Desirable limit': 0, 'Permissible limit': 1, 'Non-Potable': 2}\n",
    "# Replacing categorical values with numerical values in the 'Water_Quality' column\n",
    "data['Water_Quality'] = data['Water_Quality'].replace(water)\n",
    "\n",
    "# Check the updated 'Water_Quality' column\n",
    "print(data['Water_Quality'])"
   ]
  },
  {
   "cell_type": "code",
   "execution_count": 11,
   "metadata": {},
   "outputs": [
    {
     "data": {
      "text/plain": [
       "{'Desirable limit': 94, 'Permissible limit': 294, 'Non-Potable': 224}"
      ]
     },
     "execution_count": 11,
     "metadata": {},
     "output_type": "execute_result"
    }
   ],
   "source": [
    "new = [\"Desirable limit\",\"Permissible limit\", \"Non-Potable\"]\n",
    "final = dict()\n",
    "for i in range(3):\n",
    "    final[new[i]] = (data[\"Water_Quality\"] == i).sum()\n",
    "final"
   ]
  },
  {
   "cell_type": "code",
   "execution_count": null,
   "metadata": {},
   "outputs": [],
   "source": []
  },
  {
   "cell_type": "code",
   "execution_count": null,
   "metadata": {},
   "outputs": [],
   "source": []
  },
  {
   "cell_type": "code",
   "execution_count": null,
   "metadata": {},
   "outputs": [],
   "source": []
  },
  {
   "cell_type": "code",
   "execution_count": null,
   "metadata": {},
   "outputs": [],
   "source": []
  },
  {
   "cell_type": "code",
   "execution_count": null,
   "metadata": {},
   "outputs": [],
   "source": []
  },
  {
   "cell_type": "code",
   "execution_count": null,
   "metadata": {},
   "outputs": [],
   "source": []
  },
  {
   "cell_type": "code",
   "execution_count": null,
   "metadata": {},
   "outputs": [],
   "source": []
  },
  {
   "cell_type": "code",
   "execution_count": null,
   "metadata": {},
   "outputs": [],
   "source": []
  },
  {
   "cell_type": "code",
   "execution_count": null,
   "metadata": {},
   "outputs": [],
   "source": []
  },
  {
   "cell_type": "code",
   "execution_count": null,
   "metadata": {},
   "outputs": [],
   "source": []
  },
  {
   "cell_type": "code",
   "execution_count": null,
   "metadata": {},
   "outputs": [],
   "source": []
  },
  {
   "cell_type": "code",
   "execution_count": null,
   "metadata": {},
   "outputs": [],
   "source": []
  },
  {
   "cell_type": "code",
   "execution_count": null,
   "metadata": {},
   "outputs": [],
   "source": []
  },
  {
   "cell_type": "code",
   "execution_count": null,
   "metadata": {},
   "outputs": [],
   "source": []
  },
  {
   "cell_type": "code",
   "execution_count": null,
   "metadata": {},
   "outputs": [],
   "source": []
  },
  {
   "cell_type": "code",
   "execution_count": null,
   "metadata": {},
   "outputs": [],
   "source": []
  },
  {
   "cell_type": "code",
   "execution_count": null,
   "metadata": {},
   "outputs": [],
   "source": []
  },
  {
   "cell_type": "code",
   "execution_count": null,
   "metadata": {},
   "outputs": [],
   "source": []
  },
  {
   "cell_type": "code",
   "execution_count": null,
   "metadata": {},
   "outputs": [],
   "source": []
  },
  {
   "cell_type": "code",
   "execution_count": null,
   "metadata": {},
   "outputs": [],
   "source": []
  },
  {
   "cell_type": "code",
   "execution_count": null,
   "metadata": {},
   "outputs": [],
   "source": []
  },
  {
   "cell_type": "code",
   "execution_count": null,
   "metadata": {},
   "outputs": [],
   "source": []
  },
  {
   "cell_type": "code",
   "execution_count": null,
   "metadata": {},
   "outputs": [],
   "source": []
  },
  {
   "cell_type": "code",
   "execution_count": null,
   "metadata": {},
   "outputs": [],
   "source": []
  },
  {
   "cell_type": "code",
   "execution_count": null,
   "metadata": {},
   "outputs": [],
   "source": []
  },
  {
   "cell_type": "code",
   "execution_count": null,
   "metadata": {},
   "outputs": [],
   "source": []
  }
 ],
 "metadata": {
  "kernelspec": {
   "display_name": "Python 3",
   "language": "python",
   "name": "python3"
  },
  "language_info": {
   "codemirror_mode": {
    "name": "ipython",
    "version": 3
   },
   "file_extension": ".py",
   "mimetype": "text/x-python",
   "name": "python",
   "nbconvert_exporter": "python",
   "pygments_lexer": "ipython3",
   "version": "3.11.9"
  }
 },
 "nbformat": 4,
 "nbformat_minor": 2
}
